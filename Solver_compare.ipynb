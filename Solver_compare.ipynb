{
 "cells": [
  {
   "cell_type": "code",
   "execution_count": 1,
   "id": "diverse-level",
   "metadata": {},
   "outputs": [
    {
     "ename": "ModuleNotFoundError",
     "evalue": "No module named 'model_1d'",
     "output_type": "error",
     "traceback": [
      "\u001b[1;31m---------------------------------------------------------------------------\u001b[0m",
      "\u001b[1;31mModuleNotFoundError\u001b[0m                       Traceback (most recent call last)",
      "\u001b[1;32m<ipython-input-1-bf7b62a30395>\u001b[0m in \u001b[0;36m<module>\u001b[1;34m\u001b[0m\n\u001b[0;32m      6\u001b[0m \u001b[1;32mimport\u001b[0m \u001b[0mmatplotlib\u001b[0m\u001b[1;33m.\u001b[0m\u001b[0mpyplot\u001b[0m \u001b[1;32mas\u001b[0m \u001b[0mplt\u001b[0m\u001b[1;33m\u001b[0m\u001b[1;33m\u001b[0m\u001b[0m\n\u001b[0;32m      7\u001b[0m \u001b[1;32mimport\u001b[0m \u001b[0mtools\u001b[0m\u001b[1;33m\u001b[0m\u001b[1;33m\u001b[0m\u001b[0m\n\u001b[1;32m----> 8\u001b[1;33m \u001b[1;32mfrom\u001b[0m \u001b[0mmodel_1d\u001b[0m \u001b[1;32mimport\u001b[0m \u001b[0mmodel_1d\u001b[0m\u001b[1;33m\u001b[0m\u001b[1;33m\u001b[0m\u001b[0m\n\u001b[0m\u001b[0;32m      9\u001b[0m \u001b[1;33m\u001b[0m\u001b[0m\n\u001b[0;32m     10\u001b[0m \u001b[1;31m# Setup model\u001b[0m\u001b[1;33m\u001b[0m\u001b[1;33m\u001b[0m\u001b[1;33m\u001b[0m\u001b[0m\n",
      "\u001b[1;31mModuleNotFoundError\u001b[0m: No module named 'model_1d'"
     ]
    }
   ],
   "source": [
    "# magics: ensures that any changes to the modules loaded below will be re-loaded automatically\n",
    "%load_ext autoreload\n",
    "%autoreload 2\n",
    "\n",
    "import numpy as np\n",
    "import matplotlib.pyplot as plt\n",
    "import tools \n",
    "from model import model\n",
    "\n",
    "# Setup model\n",
    "model = model()\n",
    "model.setup()\n",
    "model.create_grids()\n"
   ]
  },
  {
   "cell_type": "code",
   "execution_count": null,
   "id": "pointed-rebel",
   "metadata": {},
   "outputs": [],
   "source": [
    "# Solve using NEGM\n",
    "model.solve_negm_dc()\n",
    "sol = model.sol_negm\n",
    "par = model.par"
   ]
  },
  {
   "cell_type": "code",
   "execution_count": null,
   "id": "brutal-louisiana",
   "metadata": {},
   "outputs": [],
   "source": [
    "# Plot NEGM results\n",
    "fig, ((ax1, ax2, ax3), (ax4, ax5, ax6)) = plt.subplots(2,3)\n",
    "fig.suptitle('NEGM')\n",
    "ax1.plot(sol.m[0], sol.v[0])\n",
    "ax1.set_title(\"Value function\")\n",
    "#ax1.set_ylim(-5,10)\n",
    "ax2.plot(sol.m[0], sol.c[0])\n",
    "ax2.set_title(\"Policy function (c)\")\n",
    "#ax2.set_xlim(0,10)\n",
    "#ax2.set_ylim(0,6)\n",
    "ax3.plot(sol.m[0], sol.h[0])\n",
    "ax3.set_title(\"Policy function (h)\")\n",
    "ax4.plot(sol.m[1], sol.v[1])\n",
    "#ax4.set_ylim(-5,10)\n",
    "ax5.plot(sol.m[1], sol.c[1])\n",
    "#ax5.set_xlim(0,10)\n",
    "#ax5.set_ylim(0,6)\n",
    "ax6.plot(sol.m[1], sol.h[1])\n",
    "fig.tight_layout(w_pad=1.5)"
   ]
  },
  {
   "cell_type": "code",
   "execution_count": null,
   "id": "religious-painting",
   "metadata": {},
   "outputs": [],
   "source": [
    "# Solve using NVFI\n",
    "model.solve_vfi_dc()\n",
    "sol = model.sol_nvfi\n",
    "par = model.par"
   ]
  },
  {
   "cell_type": "code",
   "execution_count": null,
   "id": "stable-sitting",
   "metadata": {},
   "outputs": [],
   "source": [
    "# Plot NVFI results\n",
    "fig, ((ax1, ax2, ax3), (ax4, ax5, ax6)) = plt.subplots(2,3)\n",
    "fig.suptitle('NVFI')\n",
    "ax1.plot(sol.m[0], sol.v[0])\n",
    "ax1.set_title(\"Value function\")\n",
    "#ax1.set_ylim(-5,10)\n",
    "ax2.plot(sol.m[0], sol.c[0])\n",
    "ax2.set_title(\"Policy function (c)\")\n",
    "#ax2.set_ylim(0,6)\n",
    "ax3.plot(sol.m[0], sol.h[0])\n",
    "ax3.set_title(\"Policy function (h)\")\n",
    "ax4.plot(sol.m[1], sol.v[1])\n",
    "#ax4.set_ylim(-5,10)\n",
    "ax5.plot(sol.m[1], sol.c[1])\n",
    "#ax5.set_ylim(0,6)\n",
    "ax6.plot(sol.m[1], sol.h[1])\n",
    "fig.tight_layout(w_pad=1.5)"
   ]
  }
 ],
 "metadata": {
  "kernelspec": {
   "display_name": "Python 3",
   "language": "python",
   "name": "python3"
  },
  "language_info": {
   "codemirror_mode": {
    "name": "ipython",
    "version": 3
   },
   "file_extension": ".py",
   "mimetype": "text/x-python",
   "name": "python",
   "nbconvert_exporter": "python",
   "pygments_lexer": "ipython3",
   "version": "3.8.8"
  }
 },
 "nbformat": 4,
 "nbformat_minor": 5
}

{
 "cells": [
  {
   "cell_type": "code",
   "execution_count": 19,
   "id": "apart-omaha",
   "metadata": {},
   "outputs": [
    {
     "name": "stdout",
     "output_type": "stream",
     "text": [
      "The autoreload extension is already loaded. To reload it, use:\n",
      "  %reload_ext autoreload\n"
     ]
    }
   ],
   "source": [
    "# magics: ensures that any changes to the modules loaded below will be re-loaded automatically\n",
    "%load_ext autoreload\n",
    "%autoreload 2\n",
    "\n",
    "import numpy as np\n",
    "import matplotlib.pyplot as plt\n",
    "import tools \n",
    "from model import model_class as model\n",
    "\n",
    "# Setup model\n",
    "model = model()\n",
    "model.setup()\n",
    "model.create_grids()\n"
   ]
  },
  {
   "cell_type": "code",
   "execution_count": 20,
   "id": "becoming-champion",
   "metadata": {
    "jupyter": {
     "source_hidden": true
    }
   },
   "outputs": [],
   "source": [
    "# Solve using NEGM\n",
    "model.solve_negm_dc()\n",
    "sol = model.sol_negm\n",
    "par = model.par"
   ]
  },
  {
   "cell_type": "code",
   "execution_count": 21,
   "id": "nominated-imperial",
   "metadata": {
    "jupyter": {
     "source_hidden": true
    }
   },
   "outputs": [
    {
     "data": {
      "image/png": "[encoded data removed]",
      "text/plain": [
       "<Figure size 432x288 with 6 Axes>"
      ]
     },
     "metadata": {
      "needs_background": "light"
     },
     "output_type": "display_data"
    }
   ],
   "source": [
    "# Plot NEGM results\n",
    "fig, ((ax1, ax2, ax3), (ax4, ax5, ax6)) = plt.subplots(2,3)\n",
    "fig.suptitle('NEGM')\n",
    "ax1.plot(sol.m[0], sol.v[0])\n",
    "ax1.set_title(\"Value function\")\n",
    "#ax1.set_ylim(-5,10)\n",
    "ax2.plot(sol.m[0], sol.c[0])\n",
    "ax2.set_title(\"Policy function (c)\")\n",
    "#ax2.set_xlim(0,10)\n",
    "#ax2.set_ylim(0,6)\n",
    "ax3.plot(sol.m[0], sol.h[0])\n",
    "ax3.set_title(\"Policy function (h)\")\n",
    "ax4.plot(sol.m[1], sol.v[1])\n",
    "#ax4.set_ylim(-5,10)\n",
    "ax5.plot(sol.m[1], sol.c[1])\n",
    "#ax5.set_xlim(0,10)\n",
    "#ax5.set_ylim(0,6)\n",
    "ax6.plot(sol.m[1], sol.h[1])\n",
    "fig.tight_layout(w_pad=1.5)"
   ]
  },
  {
   "cell_type": "code",
   "execution_count": null,
   "id": "homeless-crawford",
   "metadata": {
    "jupyter": {
     "source_hidden": true
    }
   },
   "outputs": [],
   "source": [
    "# Solve using NVFI\n",
    "model.solve_vfi_dc()\n",
    "sol = model.sol_nvfi\n",
    "par = model.par"
   ]
  },
  {
   "cell_type": "code",
   "execution_count": null,
   "id": "middle-winner",
   "metadata": {
    "jupyter": {
     "source_hidden": true
    }
   },
   "outputs": [],
   "source": [
    "# Plot NVFI results\n",
    "fig, ((ax1, ax2, ax3), (ax4, ax5, ax6)) = plt.subplots(2,3)\n",
    "fig.suptitle('NVFI')\n",
    "ax1.plot(sol.m[0], sol.v[0])\n",
    "ax1.set_title(\"Value function\")\n",
    "#ax1.set_ylim(-5,10)\n",
    "ax2.plot(sol.m[0], sol.c[0])\n",
    "ax2.set_title(\"Policy function (c)\")\n",
    "#ax2.set_ylim(0,6)\n",
    "ax3.plot(sol.m[0], sol.h[0])\n",
    "ax3.set_title(\"Policy function (h)\")\n",
    "ax4.plot(sol.m[1], sol.v[1])\n",
    "#ax4.set_ylim(-5,10)\n",
    "ax5.plot(sol.m[1], sol.c[1])\n",
    "#ax5.set_ylim(0,6)\n",
    "ax6.plot(sol.m[1], sol.h[1])\n",
    "fig.tight_layout(w_pad=1.5)"
   ]
  }
 ],
 "metadata": {
  "kernelspec": {
   "display_name": "Python 3",
   "language": "python",
   "name": "python3"
  },
  "language_info": {
   "codemirror_mode": {
    "name": "ipython",
    "version": 3
   },
   "file_extension": ".py",
   "mimetype": "text/x-python",
   "name": "python",
   "nbconvert_exporter": "python",
   "pygments_lexer": "ipython3",
   "version": "3.8.8"
  }
 },
 "nbformat": 4,
 "nbformat_minor": 5
}

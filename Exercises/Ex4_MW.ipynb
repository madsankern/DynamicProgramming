{
 "cells": [
  {
   "cell_type": "code",
   "execution_count": 30,
   "metadata": {},
   "outputs": [
    {
     "name": "stdout",
     "output_type": "stream",
     "text": [
      "\f",
      "\n"
     ]
    }
   ],
   "source": [
    "clear all"
   ]
  },
  {
   "cell_type": "code",
   "execution_count": 31,
   "metadata": {},
   "outputs": [
    {
     "name": "stdout",
     "output_type": "stream",
     "text": [
      "The autoreload extension is already loaded. To reload it, use:\n",
      "  %reload_ext autoreload\n"
     ]
    }
   ],
   "source": [
    "# magics: ensures that any changes to the modules loaded below will be re-loaded automatically\n",
    "%load_ext autoreload\n",
    "%autoreload 2\n",
    "\n",
    "# load packages\n",
    "import numpy as np\n",
    "import tools_Exercise_1_4 as tools\n"
   ]
  },
  {
   "cell_type": "markdown",
   "metadata": {},
   "source": [
    "# Exercise 4 [L3]: Numerical Integration\n",
    "Consider the numerical integration problem\n",
    "$$\n",
    "\\int x^{2}dg(x),\\,\\,\\,x\\sim\\mathcal{N}(0,1)\n",
    "$$\n",
    "\n",
    "Note that we can analytically show that for $f(x)=x^{2}$ \n",
    "\n",
    "(it is the\n",
    "variance of $x$)\n",
    "$$\n",
    "\\int f(x)g(x)dx=1\n",
    "$$"
   ]
  },
  {
   "cell_type": "code",
   "execution_count": 32,
   "metadata": {},
   "outputs": [],
   "source": [
    "# Define the function \n",
    "f = lambda x: x**2"
   ]
  },
  {
   "cell_type": "markdown",
   "metadata": {},
   "source": [
    "### 1. Approximate the integral using *Monte Carlo integration*."
   ]
  },
  {
   "cell_type": "code",
   "execution_count": 33,
   "metadata": {},
   "outputs": [
    {
     "name": "stdout",
     "output_type": "stream",
     "text": [
      "1.0091090687593192\n"
     ]
    }
   ],
   "source": [
    "num_draws = 500 # number of MC draws\n",
    "np.random.seed(2020) # set seed to make sure the results are the same\n",
    "x_mc = np.random.normal(size=num_draws) # draw from standard normal distribution\n",
    "Efx = np.mean(f(x_mc))\n",
    "print(Efx)"
   ]
  },
  {
   "cell_type": "code",
   "execution_count": 34,
   "metadata": {},
   "outputs": [],
   "source": [
    "#Create a function for later use\n",
    "def integrate_MC(f,num_points):\n",
    "    np.random.seed(2020)\n",
    "    x_mc=np.random.normal(size=num_points)\n",
    "    return np.mean(f(x_mc))"
   ]
  },
  {
   "cell_type": "markdown",
   "metadata": {},
   "source": [
    "### 2. Approximate the integral using *Gauss-Hermite integration* (see ex ante code for help)."
   ]
  },
  {
   "cell_type": "code",
   "execution_count": 37,
   "metadata": {},
   "outputs": [
    {
     "name": "stdout",
     "output_type": "stream",
     "text": [
      "1.0000000000000022\n"
     ]
    }
   ],
   "source": [
    "num_points = 5\n",
    "\n",
    "# get \"raw\" hermite nodes and weights\n",
    "x_gauss,w_gauss = tools.gauss_hermite(num_points)\n",
    "\n",
    "# adjust accordingly to the distribution X is drawn from. Here standard Gaussian\n",
    "w_gauss=w_gauss*(1/(np.pi)**(1/2))\n",
    "x_gauss=x_gauss*(2)**(1/2)\n",
    "\n",
    "\n",
    "# evaluate expectation\n",
    "Efx_gauss = f(x_gauss.T) @ w_gauss\n",
    "print(Efx_gauss)"
   ]
  },
  {
   "cell_type": "code",
   "execution_count": 39,
   "metadata": {},
   "outputs": [],
   "source": [
    "# construct function for use below\n",
    "def integrate_gauss(f,num_points):\n",
    "    x_gauss,w_gauss = tools.gauss_hermite(num_points)\n",
    "    w_gauss=w_gauss*(1/(np.pi)**(1/2))\n",
    "    x_gauss=x_gauss*(2)**(1/2)\n",
    "    return f(x_gauss.T) @ w_gauss"
   ]
  },
  {
   "cell_type": "markdown",
   "metadata": {},
   "source": [
    "### 3. Compare the two methods across various number of grid points. How few grid points do you need for Gauss-Hermite integration?"
   ]
  },
  {
   "cell_type": "code",
   "execution_count": 40,
   "metadata": {},
   "outputs": [
    {
     "name": "stdout",
     "output_type": "stream",
     "text": [
      "Number of grid points:    1\n",
      "MC:    3.1288\n",
      "gauss: 0.0000\n",
      "time: 0.00099611282 seconds\n",
      "Number of grid points:    2\n",
      "MC:    1.5673\n",
      "gauss: 1.0000\n",
      "time: 0.0 seconds\n",
      "Number of grid points:    3\n",
      "MC:    1.4709\n",
      "gauss: 1.0000\n",
      "time: 0.0 seconds\n",
      "Number of grid points:    10\n",
      "MC:    0.7762\n",
      "gauss: 1.0000\n",
      "time: 0.00099992752 seconds\n",
      "Number of grid points:    50\n",
      "MC:    0.9163\n",
      "gauss: 1.0000\n",
      "time: 0.00400424 seconds\n",
      "Number of grid points:    100\n",
      "MC:    0.9000\n",
      "gauss: 1.0000\n",
      "time: 0.0079984665 seconds\n",
      "Number of grid points:    1000\n",
      "MC:    0.9505\n",
      "gauss: 1.0000\n",
      "time: 1.1480553 seconds\n",
      "Number of grid points:    3000\n",
      "MC:    0.9702\n",
      "time: 0.0010018349 seconds\n",
      "Number of grid points:    900000\n",
      "MC:    1.0010\n",
      "time: 0.052001476 seconds\n"
     ]
    }
   ],
   "source": [
    "num_array = [1,2,3,10,50,100,1000,3000,900000]\n",
    "\n",
    "# We check the time\n",
    "import time\n",
    "\n",
    "for i,num in enumerate(num_array):   # i is the index, and num is the corresponding value: num_array[i]=num\n",
    "    t0 = time.time()  # set the starting time\n",
    "    print(f'Number of grid points:    {num}')\n",
    "    print(f'MC:    {integrate_MC(f,num):.4f}')\n",
    "    if num < 1500:\n",
    "        print(f'gauss: {integrate_gauss(f,num):.4f}')\n",
    "    t1 = time.time() # set the ending time\n",
    "    print(f'time: {t1-t0:.8} seconds') # print the total time"
   ]
  },
  {
   "cell_type": "markdown",
   "metadata": {},
   "source": [
    "### 5. Change the function f and see what happens."
   ]
  },
  {
   "cell_type": "code",
   "execution_count": 41,
   "metadata": {},
   "outputs": [
    {
     "name": "stdout",
     "output_type": "stream",
     "text": [
      "Number of grid points:    1\n",
      "MC:    0.1705\n",
      "gauss: 1.0000\n",
      "Number of grid points:    2\n",
      "MC:    0.6245\n",
      "gauss: 1.5431\n",
      "Number of grid points:    3\n",
      "MC:    0.5239\n",
      "gauss: 1.6382\n",
      "Number of grid points:    4\n",
      "MC:    0.5233\n",
      "gauss: 1.6480\n",
      "Number of grid points:    5\n",
      "MC:    0.5005\n",
      "gauss: 1.6487\n",
      "Number of grid points:    10\n",
      "MC:    0.6860\n",
      "gauss: 1.6487\n",
      "Number of grid points:    50\n",
      "MC:    1.4515\n",
      "gauss: 1.6487\n",
      "Number of grid points:    100\n",
      "MC:    1.6225\n",
      "gauss: 1.6487\n",
      "Number of grid points:    500\n",
      "MC:    1.6088\n",
      "gauss: 1.6487\n",
      "Number of grid points:    3000\n",
      "MC:    1.6166\n"
     ]
    }
   ],
   "source": [
    "num_array = [1,2,3,4,5,10,50,100,500,3000]\n",
    "\n",
    "# New function\n",
    "g = lambda x: np.exp(x)\n",
    "\n",
    "for i,num in enumerate(num_array): # i is the index, and num is the corresponding value: num_array[i]=num\n",
    "    print(f'Number of grid points:    {num}')\n",
    "    print(f'MC:    {integrate_MC(g,num):.4f}')\n",
    "    if num < 1500:\n",
    "        print(f'gauss: {integrate_gauss(g,num):.4f}')"
   ]
  },
  {
   "cell_type": "code",
   "execution_count": null,
   "metadata": {},
   "outputs": [],
   "source": []
  }
 ],
 "metadata": {
  "kernelspec": {
   "display_name": "Python 3",
   "language": "python",
   "name": "python3"
  },
  "language_info": {
   "codemirror_mode": {
    "name": "ipython",
    "version": 3
   },
   "file_extension": ".py",
   "mimetype": "text/x-python",
   "name": "python",
   "nbconvert_exporter": "python",
   "pygments_lexer": "ipython3",
   "version": "3.8.8"
  }
 },
 "nbformat": 4,
 "nbformat_minor": 4
}

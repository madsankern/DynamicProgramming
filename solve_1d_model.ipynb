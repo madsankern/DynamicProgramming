{
 "cells": [
  {
   "cell_type": "code",
   "execution_count": 1,
   "metadata": {},
   "outputs": [],
   "source": [
    "# magics: ensures that any changes to the modules loaded below will be re-loaded automatically\n",
    "%load_ext autoreload\n",
    "%autoreload 2\n",
    "\n",
    "# load general packages\n",
    "import numpy as np\n",
    "import matplotlib.pyplot as plt\n",
    "\n",
    "# load modules related to this exercise\n",
    "import tools \n",
    "from model_1d import model_1d\n",
    "\n",
    "import time # For timing speed\n",
    "\n",
    "plt.rc('font', family='serif')\n",
    "plt.rc('text', usetex=True)"
   ]
  },
  {
   "cell_type": "markdown",
   "metadata": {},
   "source": [
    "This file is for presenting the output of our project.\n",
    "\n",
    "Some description of the model here."
   ]
  },
  {
   "cell_type": "markdown",
   "metadata": {},
   "source": [
    "### Generate the 'true' policy functions"
   ]
  },
  {
   "cell_type": "code",
   "execution_count": 2,
   "metadata": {},
   "outputs": [
    {
     "ename": "ValueError",
     "evalue": "operands could not be broadcast together with shapes (2,500) (2,4000) ",
     "output_type": "error",
     "traceback": [
      "\u001b[1;31m---------------------------------------------------------------------------\u001b[0m",
      "\u001b[1;31mValueError\u001b[0m                                Traceback (most recent call last)",
      "\u001b[1;32m<ipython-input-2-5cdec67780dd>\u001b[0m in \u001b[0;36m<module>\u001b[1;34m\u001b[0m\n\u001b[0;32m     14\u001b[0m \u001b[0mmodel\u001b[0m\u001b[1;33m.\u001b[0m\u001b[0mpar\u001b[0m\u001b[1;33m.\u001b[0m\u001b[0mNa\u001b[0m \u001b[1;33m=\u001b[0m \u001b[0mmax_nr\u001b[0m\u001b[1;33m\u001b[0m\u001b[1;33m\u001b[0m\u001b[0m\n\u001b[0;32m     15\u001b[0m \u001b[0mmodel\u001b[0m\u001b[1;33m.\u001b[0m\u001b[0mcreate_grids\u001b[0m\u001b[1;33m(\u001b[0m\u001b[1;33m)\u001b[0m\u001b[1;33m\u001b[0m\u001b[1;33m\u001b[0m\u001b[0m\n\u001b[1;32m---> 16\u001b[1;33m \u001b[0mmodel\u001b[0m\u001b[1;33m.\u001b[0m\u001b[0msolve_fd\u001b[0m\u001b[1;33m(\u001b[0m\u001b[1;33m)\u001b[0m\u001b[1;33m\u001b[0m\u001b[1;33m\u001b[0m\u001b[0m\n\u001b[0m\u001b[0;32m     17\u001b[0m \u001b[0mc_fd_tr\u001b[0m \u001b[1;33m=\u001b[0m \u001b[0mmodel\u001b[0m\u001b[1;33m.\u001b[0m\u001b[0msol_fd\u001b[0m\u001b[1;33m.\u001b[0m\u001b[0mc\u001b[0m\u001b[1;33m\u001b[0m\u001b[1;33m\u001b[0m\u001b[0m\n\u001b[0;32m     18\u001b[0m \u001b[1;33m\u001b[0m\u001b[0m\n",
      "\u001b[1;32m~\\Documents\\GitHub\\DynamicProgramming\\model_1d.py\u001b[0m in \u001b[0;36msolve_fd\u001b[1;34m(self)\u001b[0m\n\u001b[0;32m    160\u001b[0m         \u001b[0msol\u001b[0m \u001b[1;33m=\u001b[0m \u001b[0mself\u001b[0m\u001b[1;33m.\u001b[0m\u001b[0msol_fd\u001b[0m\u001b[1;33m\u001b[0m\u001b[1;33m\u001b[0m\u001b[0m\n\u001b[0;32m    161\u001b[0m \u001b[1;33m\u001b[0m\u001b[0m\n\u001b[1;32m--> 162\u001b[1;33m         \u001b[0msol\u001b[0m \u001b[1;33m=\u001b[0m \u001b[0mfd\u001b[0m\u001b[1;33m.\u001b[0m\u001b[0msolve\u001b[0m\u001b[1;33m(\u001b[0m\u001b[0mpar\u001b[0m\u001b[1;33m,\u001b[0m\u001b[0msol\u001b[0m\u001b[1;33m)\u001b[0m\u001b[1;33m\u001b[0m\u001b[1;33m\u001b[0m\u001b[0m\n\u001b[0m",
      "\u001b[1;32m~\\Documents\\GitHub\\DynamicProgramming\\fd.py\u001b[0m in \u001b[0;36msolve\u001b[1;34m(par, sol)\u001b[0m\n\u001b[0;32m     21\u001b[0m \u001b[1;33m\u001b[0m\u001b[0m\n\u001b[0;32m     22\u001b[0m     \u001b[1;31m# Initial guess on value function = Stay put\u001b[0m\u001b[1;33m\u001b[0m\u001b[1;33m\u001b[0m\u001b[1;33m\u001b[0m\u001b[0m\n\u001b[1;32m---> 23\u001b[1;33m     sol.v = util.u(np.tile(par.grid_a,(y_size,1))*par.r\n\u001b[0m\u001b[0;32m     24\u001b[0m                     + np.tile(y_vals,(par.Na,1)).transpose(),par)/par.rho\n\u001b[0;32m     25\u001b[0m \u001b[1;33m\u001b[0m\u001b[0m\n",
      "\u001b[1;31mValueError\u001b[0m: operands could not be broadcast together with shapes (2,500) (2,4000) "
     ]
    }
   ],
   "source": [
    "# Maximum grid points is 4000 right now\n",
    "max_nr = 4000\n",
    "\n",
    "# Setup model\n",
    "model = model_1d()\n",
    "model.setup()\n",
    "\n",
    "# Compute policy functions\n",
    "model.par.Na = max_nr-1 # Set number\n",
    "model.create_grids()\n",
    "model.solve_egm()\n",
    "c_egm_tr = model.sol_egm.c\n",
    "\n",
    "model.par.Na = max_nr\n",
    "model.create_grids()\n",
    "model.solve_fd()\n",
    "c_fd_tr = model.sol_fd.c\n",
    "\n",
    "# Save fine asset grid for later interpolation\n",
    "m_egm_tr = model.sol_egm.m\n",
    "m_fd_tr = np.tile(model.par.grid_a[:-1],(2,1)) # Correct the dimension of the a grid later"
   ]
  },
  {
   "cell_type": "markdown",
   "metadata": {},
   "source": [
    "Compute the"
   ]
  },
  {
   "cell_type": "code",
   "execution_count": null,
   "metadata": {},
   "outputs": [],
   "source": [
    "# Points on the grid\n",
    "num = 50\n",
    "Na_vec = tools.nonlinspace(50,2000,num,1.3)\n",
    "\n",
    "# Initialize result vectors\n",
    "error_egm = np.nan + np.zeros(num)\n",
    "time_egm = np.nan + np.zeros(num)\n",
    "\n",
    "for i,Na in enumerate(Na_vec):\n",
    "    \n",
    "    # Setup model\n",
    "    model = model_1d()\n",
    "    model.setup()\n",
    "    model.par.Na = int(Na) # Set number of gridpoints\n",
    "    model.create_grids()\n",
    "\n",
    "    # Solve model and set time\n",
    "    t0 = time.time()\n",
    "    model.solve_egm()\n",
    "    t1 = time.time()\n",
    "    \n",
    "    time_egm[i] = t1 - t0\n",
    "    \n",
    "    c_egm = model.sol_egm.c\n",
    "    m_egm = model.sol_egm.m\n",
    "\n",
    "    # Generate interpolated policy function\n",
    "    c_egm_interp_1 = tools.interp_linear_1d(m_egm[0], c_egm[0], m_egm_tr[0])\n",
    "    c_egm_interp_2 = tools.interp_linear_1d(m_egm[1], c_egm[1], m_egm_tr[1])\n",
    "    c_egm_interp = np.vstack((c_egm_interp_1, c_egm_interp_2))\n",
    "\n",
    "    # Compute calculation error\n",
    "    error_egm[i] = 100 * 1/max_nr * 1/2 * np.sum(np.abs(c_egm_interp - c_egm_tr)/c_egm_tr)"
   ]
  },
  {
   "cell_type": "code",
   "execution_count": null,
   "metadata": {},
   "outputs": [],
   "source": [
    "# Points on the grid\n",
    "num = 50\n",
    "Na_vec = tools.nonlinspace(200,3500,num,1.3)\n",
    "n_reps = 50\n",
    "\n",
    "# Initialize result vectors\n",
    "error_fd = np.nan + np.zeros((n_reps,num))\n",
    "time_fd = np.nan + np.zeros((n_reps,num))\n",
    "\n",
    "for j in range(n_reps) :\n",
    "    for i,Na in enumerate(Na_vec):\n",
    "\n",
    "        # Setup model\n",
    "        model = model_1d()\n",
    "        model.setup()\n",
    "        model.par.Na = int(Na) # Set number of gridpoints\n",
    "        model.create_grids()\n",
    "\n",
    "        # Solve model and set time\n",
    "        t0 = time.time()\n",
    "        model.solve_fd()\n",
    "        t1 = time.time()\n",
    "\n",
    "        time_fd[j,i] = t1 - t0\n",
    "\n",
    "        c_fd = model.sol_fd.c\n",
    "        m_fd = model.sol_fd.a\n",
    "\n",
    "        # Generate interpolated policy function\n",
    "        c_fd_interp_1 = tools.interp_linear_1d(m_fd, c_fd[0], m_fd_tr[0])\n",
    "        c_fd_interp_2 = tools.interp_linear_1d(m_fd, c_fd[1], m_fd_tr[1])\n",
    "        c_fd_interp = np.vstack((c_fd_interp_1, c_fd_interp_2))\n",
    "\n",
    "        # Compute calculation error\n",
    "        error_fd[j,i] = 100 * 1/max_nr * 1/2 * np.sum(np.abs(c_fd_interp - c_fd_tr)/c_fd_tr)"
   ]
  },
  {
   "cell_type": "code",
   "execution_count": null,
   "metadata": {},
   "outputs": [],
   "source": [
    "# Compute average\n",
    "time_fd_av = np.nan + np.zeros(num)\n",
    "error_fd_av = np.nan + np.zeros(num)\n",
    "for i,Na in enumerate(Na_vec):\n",
    "    \n",
    "    time_fd_av = np.sum(time_fd, axis = 0) / n_reps\n",
    "    error_fd_av = np.sum(error_fd, axis = 0) / n_reps"
   ]
  },
  {
   "cell_type": "code",
   "execution_count": null,
   "metadata": {},
   "outputs": [],
   "source": [
    "# Generate\n",
    "fig = plt.figure(figsize=(8,6))\n",
    "ax = fig.add_subplot(1,1,1)\n",
    "\n",
    "# Settings\n",
    "ax.grid(b=True, which = 'major', linestyle='-', linewidth=0.5, color='0.7')\n",
    "ax.set_xlim([-0.03,1])\n",
    "ax.set_ylim([-0.1,2.5])\n",
    "ax.set_ylabel(r'Speed in seconds', size=14)\n",
    "ax.set_xlabel(r'Policy Function Error in \\%', size=14)\n",
    "\n",
    "# Plot\n",
    "ax.scatter(error_fd_av,time_fd_av,marker='x', alpha = 0.5, edgecolor = 'k', linewidth=1.2, color = 'blue', label = 'Finite Difference')\n",
    "ax.scatter(error_egm,time_egm, marker='+', alpha = 0.5, edgecolor = 'k', linewidth=1.2, color = 'red', label = 'Endogenous Grid')\n",
    "\n",
    "ax.legend(frameon = True, edgecolor = 'k', facecolor = 'white')\n",
    "plt.savefig('tradeoff.pdf')"
   ]
  }
 ],
 "metadata": {
  "kernelspec": {
   "display_name": "Python 3",
   "language": "python",
   "name": "python3"
  },
  "language_info": {
   "codemirror_mode": {
    "name": "ipython",
    "version": 3
   },
   "file_extension": ".py",
   "mimetype": "text/x-python",
   "name": "python",
   "nbconvert_exporter": "python",
   "pygments_lexer": "ipython3",
   "version": "3.8.8"
  }
 },
 "nbformat": 4,
 "nbformat_minor": 4
}

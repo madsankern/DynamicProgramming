{
 "cells": [
  {
   "cell_type": "code",
   "execution_count": 44,
   "id": "contemporary-nebraska",
   "metadata": {},
   "outputs": [],
   "source": [
    "import numpy as np\n",
    "import matplotlib.pyplot as plt\n",
    "import tools \n",
    "from model_1d import model_1d\n",
    "\n",
    "# Setup model\n",
    "model = model_1d()\n",
    "model.setup()\n",
    "model.create_grids()\n",
    "\n",
    "# Solve using NEGM\n",
    "model.solve_negm_dc()\n",
    "sol = model.sol_negm\n",
    "par = model.par\n",
    "\n",
    "# Plot\n",
    "\n",
    "\n",
    "\n"
   ]
  },
  {
   "cell_type": "code",
   "execution_count": 45,
   "id": "under-tactics",
   "metadata": {},
   "outputs": [
    {
     "data": {
      "text/plain": [
       "[<matplotlib.lines.Line2D at 0x19cdd50d1c0>]"
      ]
     },
     "execution_count": 45,
     "metadata": {},
     "output_type": "execute_result"
    },
    {
     "data": {
      "image/png": "[encoded data removed]",
      "text/plain": [
       "<Figure size 432x288 with 1 Axes>"
      ]
     },
     "metadata": {
      "needs_background": "light"
     },
     "output_type": "display_data"
    }
   ],
   "source": [
    "plt.plot(par.grid_m,sol.h[0])"
   ]
  },
  {
   "cell_type": "code",
   "execution_count": 46,
   "id": "decimal-livestock",
   "metadata": {},
   "outputs": [
    {
     "data": {
      "text/plain": [
       "array([[150.1531601 , 150.61326561, 151.03940251, 151.41031239,\n",
       "        151.87342244, 152.33653249, 152.79964253, 153.26275258,\n",
       "        153.72586263, 154.18897268, 154.64940909, 155.07672432,\n",
       "        155.44480294, 155.90791299, 156.37102304, 156.83413309,\n",
       "        157.29724314, 157.76035318, 158.22346323, 158.68657328,\n",
       "        159.12270411, 159.4779585 , 159.94106855, 160.4041786 ,\n",
       "        160.86728864, 161.33039869, 161.79350874, 162.25661879,\n",
       "        162.71972884, 163.18283888, 163.5097657 , 163.97287575,\n",
       "        164.4359858 , 164.89909585, 165.3622059 , 165.82531595,\n",
       "        166.28842599, 166.75153604, 167.21464609, 167.67775614,\n",
       "        168.14086619, 168.60397623, 169.06708628, 169.53019633,\n",
       "        169.99330638, 170.45641643, 170.91952648, 171.38263652,\n",
       "        171.84574657, 172.30885662, 172.77196667, 173.23507672,\n",
       "        173.69818676, 174.16129681, 174.62440686, 175.08751691,\n",
       "        175.55062696, 176.01373701, 176.47684705, 176.9399571 ,\n",
       "        177.40306715, 177.8661772 , 178.32928725, 178.79239729,\n",
       "        179.25550734, 179.71861739, 180.18172744, 180.64483749,\n",
       "        181.10794754, 181.57105758, 182.03416763, 182.49727768,\n",
       "        182.96038773, 183.42349778, 183.88660782, 184.34971787,\n",
       "        184.81282792, 185.27593797, 185.73904802, 186.20215807,\n",
       "        186.66526811, 187.12837816, 187.59148821, 188.05459826,\n",
       "        188.51770831, 188.98081835, 189.4439284 , 189.90703845,\n",
       "        190.3701485 , 190.83325855, 191.2963686 , 191.75947864,\n",
       "        192.22258869, 192.68569874, 193.14880879, 193.61191884,\n",
       "        194.07502888, 194.53813893, 195.00124898, 195.46435903],\n",
       "       [163.37097024, 163.83408028, 164.29719033, 164.76030038,\n",
       "        165.22341043, 165.68652048, 166.14963052, 166.61274057,\n",
       "        167.07585062, 167.53896067, 168.00207072, 168.46518077,\n",
       "        168.92829081, 169.39140086, 169.85451091, 170.31762096,\n",
       "        170.78073101, 171.24384105, 171.7069511 , 172.17006115,\n",
       "        172.6331712 , 173.09628125, 173.5593913 , 174.02250134,\n",
       "        174.48561139, 174.94872144, 175.41183149, 175.87494154,\n",
       "        176.33805158, 176.80116163, 177.26427168, 177.72738173,\n",
       "        178.19049178, 178.65360183, 179.11671187, 179.57982192,\n",
       "        180.04293197, 180.50604202, 180.96915207, 181.43226211,\n",
       "        181.89537216, 182.35848221, 182.82159226, 183.28470231,\n",
       "        183.74781236, 184.2109224 , 184.67403245, 185.1371425 ,\n",
       "        185.60025255, 186.0633626 , 186.52647264, 186.98958269,\n",
       "        187.45269274, 187.91580279, 188.37891284, 188.84202289,\n",
       "        189.30513293, 189.76824298, 190.23135303, 190.69446308,\n",
       "        191.15757313, 191.62068317, 192.08379322, 192.54690327,\n",
       "        193.01001332, 193.47312337, 193.93623342, 194.39934346,\n",
       "        194.86245351, 195.32556356, 195.78867361, 196.25178366,\n",
       "        196.7148937 , 197.17800375, 197.6411138 , 198.10422385,\n",
       "        198.5673339 , 199.03044394, 199.49355399, 199.95666404,\n",
       "        200.41977409, 200.88288414, 201.34599419, 201.80910423,\n",
       "        202.27221428, 202.73532433, 203.19843438, 203.66154443,\n",
       "        204.12465447, 204.58776452, 205.05087457, 205.51398462,\n",
       "        205.97709467, 206.44020472, 206.90331476, 207.36642481,\n",
       "        207.82953486, 208.29264491, 208.75575496, 209.218865  ]])"
      ]
     },
     "execution_count": 46,
     "metadata": {},
     "output_type": "execute_result"
    }
   ],
   "source": [
    "sol.c"
   ]
  },
  {
   "cell_type": "code",
   "execution_count": null,
   "id": "abroad-underwear",
   "metadata": {},
   "outputs": [],
   "source": []
  },
  {
   "cell_type": "code",
   "execution_count": null,
   "id": "administrative-league",
   "metadata": {},
   "outputs": [],
   "source": []
  }
 ],
 "metadata": {
  "kernelspec": {
   "display_name": "Python 3",
   "language": "python",
   "name": "python3"
  },
  "language_info": {
   "codemirror_mode": {
    "name": "ipython",
    "version": 3
   },
   "file_extension": ".py",
   "mimetype": "text/x-python",
   "name": "python",
   "nbconvert_exporter": "python",
   "pygments_lexer": "ipython3",
   "version": "3.8.8"
  }
 },
 "nbformat": 4,
 "nbformat_minor": 5
}

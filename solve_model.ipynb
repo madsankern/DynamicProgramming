{
 "cells": [
  {
   "cell_type": "code",
   "execution_count": 48,
   "metadata": {},
   "outputs": [
    {
     "name": "stdout",
     "output_type": "stream",
     "text": [
      "The autoreload extension is already loaded. To reload it, use:\n",
      "  %reload_ext autoreload\n"
     ]
    }
   ],
   "source": [
    "# magics: ensures that any changes to the modules loaded below will be re-loaded automatically\n",
    "%load_ext autoreload\n",
    "%autoreload 2\n",
    "%matplotlib inline\n",
    "\n",
    "# Load packages\n",
    "import numpy as np\n",
    "import matplotlib.pyplot as plt\n",
    "plt.style.use('seaborn-whitegrid')\n",
    "\n",
    "# Load user written modules\n",
    "import tools\n",
    "import model\n",
    "import vfi\n",
    "import egm\n",
    "import fd"
   ]
  },
  {
   "cell_type": "markdown",
   "metadata": {},
   "source": [
    "## Model description"
   ]
  },
  {
   "cell_type": "markdown",
   "metadata": {},
   "source": [
    "The simple specification of our model in discrete time is given by the recursive problem\n",
    "\\begin{equation}\n",
    "\t\\begin{aligned}\n",
    "\t\tv(a_t)  &=  \\max_{c}  u(c_t) + \\beta \\mathrm{E}_t \\big[ v(a_{t+1})\\big] \\\\\n",
    "\t\t& \\text{s.t.} \\\\\t\n",
    "\t\ta_{t+1} &= y_{t+1} + (1+r)(a_t - c_t). \\\\\n",
    "        a_t & \\geq 0\n",
    "\t\\end{aligned}\n",
    "\\end{equation}\n",
    "where\n",
    "\\begin{equation}\n",
    "y_t = \\begin{cases}\n",
    "y_1 \\quad \\text{w. prob.} \\quad \\pi \\\\\n",
    "y_2 \\quad \\text{w. prob.} \\quad 1-\\pi\n",
    "\\end{cases}\n",
    "\\end{equation}"
   ]
  },
  {
   "cell_type": "markdown",
   "metadata": {},
   "source": [
    "and instantaneous utility is given by\n",
    "\\begin{equation}\n",
    "u(c_t) = \\begin{cases}\n",
    "\\frac{c^{1-\\eta} - 1}{1-\\eta} \\quad & \\text{for} \\quad \\eta \\neq 1 \\\\\n",
    "\\log c_t \\quad & \\text{for} \\quad \\eta = 1 \n",
    "\\end{cases}\n",
    "\\end{equation}"
   ]
  },
  {
   "cell_type": "markdown",
   "metadata": {},
   "source": [
    "First we setup all parameters used in the solution algortihms"
   ]
  },
  {
   "cell_type": "code",
   "execution_count": 2,
   "metadata": {},
   "outputs": [],
   "source": [
    "par = model.setup()"
   ]
  },
  {
   "cell_type": "markdown",
   "metadata": {},
   "source": [
    "## Solve by value function iteration (VFI)"
   ]
  },
  {
   "cell_type": "markdown",
   "metadata": {},
   "source": [
    "We can then solve the model using value function iteration. Write a bit about the algorithm here."
   ]
  },
  {
   "cell_type": "code",
   "execution_count": 20,
   "metadata": {},
   "outputs": [],
   "source": [
    "sol_vfi = vfi.solve_VFI(par)"
   ]
  },
  {
   "cell_type": "markdown",
   "metadata": {},
   "source": [
    "Check how many iterations are used to find the convergent solution"
   ]
  },
  {
   "cell_type": "code",
   "execution_count": 18,
   "metadata": {},
   "outputs": [
    {
     "name": "stdout",
     "output_type": "stream",
     "text": [
      "Using value function iteration required 267 iterations before convergence\n"
     ]
    }
   ],
   "source": [
    "print(\"Using value function iteration required \" + str(sol_vfi.it) +\" iterations before convergence\")"
   ]
  },
  {
   "cell_type": "markdown",
   "metadata": {},
   "source": [
    "## Solve by the endogenous grid method (EGM)"
   ]
  },
  {
   "cell_type": "markdown",
   "metadata": {},
   "source": [
    "It seems that to solve the model using the endogenous grid methods, we again rely on the contraction mapping theorem. Hence, the only difference from VFI is that we update each iteration more efficiently.\n",
    "\n",
    "The idea of EGM is to use the Euler equation to solve the problem:\n",
    "\\begin{equation}\n",
    "c_t^{-\\rho} = (1+r)\\beta \\mathrm{E}_t \\Big[ \\big(c_{t+1}(a_{t+1})\\big)^{-\\rho} \\Big] = (1+r)\\beta  \\mathrm{E}_t \\Big[ \\big(c_{t+1}\\big((1+r)a_t-c_t\\big) \\big)^{-\\rho} \\Big]\n",
    "\\end{equation}\n",
    "In the RHS i've inserted the transition rule for assets. Note that in our model assets are the same as the state ****** Ved ikke helt hvad der menes her."
   ]
  },
  {
   "cell_type": "markdown",
   "metadata": {},
   "source": [
    "Run the EGM algortihm"
   ]
  },
  {
   "cell_type": "code",
   "execution_count": 5,
   "metadata": {},
   "outputs": [
    {
     "name": "stdout",
     "output_type": "stream",
     "text": [
      "[1.  1.5]\n"
     ]
    }
   ],
   "source": [
    "par = model.setup()\n",
    "sol_egm = egm.solve_EGM(par)"
   ]
  },
  {
   "cell_type": "markdown",
   "metadata": {},
   "source": [
    "Again, we check the number of iterations used"
   ]
  },
  {
   "cell_type": "code",
   "execution_count": 6,
   "metadata": {},
   "outputs": [
    {
     "name": "stdout",
     "output_type": "stream",
     "text": [
      "Using value function iteration required 56 iterations before convergence\n"
     ]
    }
   ],
   "source": [
    "print(\"Using value function iteration required \" + str(sol_egm.it) +\" iterations before convergence\")"
   ]
  },
  {
   "cell_type": "markdown",
   "metadata": {},
   "source": [
    "Besides using considerably less iterations, we also note that each iteration should be much quicker for EGM as we can back out optimal consumption given last iteration WITHOUT using any solver"
   ]
  },
  {
   "cell_type": "markdown",
   "metadata": {},
   "source": [
    "To assert that our algorithms have run correctly, we can compare the converged policy functions derived from each algorithm"
   ]
  },
  {
   "cell_type": "code",
   "execution_count": 13,
   "metadata": {},
   "outputs": [
    {
     "data": {
      "image/png": "[encoded data removed]",
      "text/plain": [
       "<Figure size 1008x360 with 1 Axes>"
      ]
     },
     "metadata": {},
     "output_type": "display_data"
    }
   ],
   "source": [
    "fig = plt.figure(figsize=(14,5))\n",
    "\n",
    "ax = fig.add_subplot(1,2,1)\n",
    "\n",
    "ax.plot(sol_egm.a, sol_egm.c, linestyle = ':', color = '0.4')\n",
    "ax.plot(sol_vfi.a, sol_vfi.c, linestyle = '-', color = '0.7')\n",
    "ax.set_xlabel(f\"Assets, $a_t$\")\n",
    "ax.set_ylabel(f\"Consumption, $c^\\star_t$\")\n",
    "ax.set_title(f'Policy function')\n",
    "ax.set_xlim([-1,20])\n",
    "\n",
    "plt.show()"
   ]
  },
  {
   "cell_type": "markdown",
   "metadata": {},
   "source": [
    "We can see that the two solutions are quite close."
   ]
  },
  {
   "cell_type": "markdown",
   "metadata": {},
   "source": [
    "We now extend the EGM algortihm to solve a general Markov process for wages. The model is therefore\n",
    "\\begin{equation}\n",
    "\t\\begin{aligned}\n",
    "\t\tv_j(a_t)  &=  \\max_{c}  u(c_t) + \\beta \\Big[ P_{jj} v_j(a_{t+1}) + (1-P_{jj})v_{-j}(a_{t+1}) \\big] \\\\\n",
    "\t\t& \\text{s.t.} \\\\\t\n",
    "\t\ta_{t+1} &= y_j + (1+r)(a_t - c_t). \\\\\n",
    "        a_t & \\geq 0\n",
    "\t\\end{aligned}\n",
    "\\end{equation}\n",
    "for $j \\in \\{1,2\\}$. \n",
    "\n",
    "We have the transition matrix between states\n",
    "\\begin{equation}\n",
    "\\mathbf{P} = \\begin{pmatrix}\n",
    "P_{11} & 1 - P_{11} \\\\\n",
    "1 - P_{22} & P_{22}\n",
    "\\end{pmatrix}\n",
    "\\end{equation}\n",
    "where $P_{11}$ is the probability of of staying in state 1 conditional on being in state 1 and $P_{22}$ is the probability of staying in state 2 conditional on being in state 2. (Kommenter på, hvilken state vi antager er hhv. employment og unemployment)\n",
    "\\end{equation}"
   ]
  },
  {
   "cell_type": "markdown",
   "metadata": {},
   "source": [
    "**Run the new and improved EGM solver**"
   ]
  },
  {
   "cell_type": "code",
   "execution_count": 41,
   "metadata": {},
   "outputs": [],
   "source": [
    "sol_egm_2d = egm.solve_EGM_2d(par)"
   ]
  },
  {
   "cell_type": "code",
   "execution_count": 15,
   "metadata": {},
   "outputs": [
    {
     "data": {
      "image/png": "[encoded data removed]",
      "text/plain": [
       "<Figure size 1008x360 with 1 Axes>"
      ]
     },
     "metadata": {},
     "output_type": "display_data"
    }
   ],
   "source": [
    "fig = plt.figure(figsize=(14,5))\n",
    "\n",
    "ax = fig.add_subplot(1,2,1)\n",
    "\n",
    "ax.plot(sol_egm_2d.a[0,:], sol_egm_2d.c[0,:], linestyle = ':', color = 'red', label = '$y_1$')\n",
    "ax.plot(sol_egm_2d.a[1,:], sol_egm_2d.c[1,:], linestyle = ':', color = 'blue', label = '$y_2$')\n",
    "ax.plot(sol_egm_2d.a[1,:10], sol_egm_2d.a[1,:10], linestyle = '--', color = '0.6') # Check with 45 degree line. Seems correct\n",
    "ax.set_xlabel(f\"Assets, $a_t$\")\n",
    "ax.set_ylabel(f\"Consumption, $c^\\star_t$\")\n",
    "ax.set_title(f'Policy function')\n",
    "ax.set_xlim([-1,20])\n",
    "ax.legend(frameon=True)\n",
    "\n",
    "plt.show()"
   ]
  },
  {
   "cell_type": "code",
   "execution_count": 16,
   "metadata": {},
   "outputs": [
    {
     "name": "stdout",
     "output_type": "stream",
     "text": [
      "We again used 56 iterations before convergence\n"
     ]
    }
   ],
   "source": [
    "print(\"We again used \" + str(sol_egm_2d.it) +\" iterations before convergence\")"
   ]
  },
  {
   "cell_type": "markdown",
   "metadata": {},
   "source": [
    "## Finite Difference (FD) ##"
   ]
  },
  {
   "cell_type": "markdown",
   "metadata": {},
   "source": [
    "Some test code here"
   ]
  },
  {
   "cell_type": "code",
   "execution_count": 93,
   "metadata": {},
   "outputs": [],
   "source": [
    "par = model.setup()"
   ]
  },
  {
   "cell_type": "code",
   "execution_count": 99,
   "metadata": {},
   "outputs": [],
   "source": [
    "sol_fd = fd.solve_fd(par)"
   ]
  },
  {
   "cell_type": "code",
   "execution_count": 100,
   "metadata": {},
   "outputs": [
    {
     "data": {
      "text/plain": [
       "(-0.2, 3.5)"
      ]
     },
     "execution_count": 100,
     "metadata": {},
     "output_type": "execute_result"
    },
    {
     "data": {
      "image/png": "[encoded data removed]",
      "text/plain": [
       "<Figure size 1008x360 with 1 Axes>"
      ]
     },
     "metadata": {},
     "output_type": "display_data"
    }
   ],
   "source": [
    "fig = plt.figure(figsize=(14,5))\n",
    "\n",
    "ax = fig.add_subplot(1,2,1)\n",
    "\n",
    "ax.plot(sol_fd.a[:-1], sol_fd.c[0,:], linestyle = ':', color = '0.4')\n",
    "ax.plot(sol_fd.a[:-1], sol_fd.c[1,:], linestyle = ':', color = '0.4')\n",
    "\n",
    "\n",
    "# ax.plot(sol_vfi.a, sol_vfi.c, linestyle = '-', color = '0.7')\n",
    "\n",
    "# ax.set_xlabel(f\"Assets, $a_t$\")\n",
    "# ax.set_ylabel(f\"Consumption, $c^\\star_t$\")\n",
    "# ax.set_title(f'Policy function')\n",
    "ax.set_xlim([-1,20])\n",
    "ax.set_ylim([-.2,3.5])"
   ]
  }
 ],
 "metadata": {
  "kernelspec": {
   "display_name": "Python 3",
   "language": "python",
   "name": "python3"
  },
  "language_info": {
   "codemirror_mode": {
    "name": "ipython",
    "version": 3
   },
   "file_extension": ".py",
   "mimetype": "text/x-python",
   "name": "python",
   "nbconvert_exporter": "python",
   "pygments_lexer": "ipython3",
   "version": "3.7.4"
  }
 },
 "nbformat": 4,
 "nbformat_minor": 4
}

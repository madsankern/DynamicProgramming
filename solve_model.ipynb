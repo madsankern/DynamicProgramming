{
 "cells": [
  {
   "cell_type": "code",
   "execution_count": 32,
   "metadata": {},
   "outputs": [
    {
     "name": "stdout",
     "output_type": "stream",
     "text": [
      "The autoreload extension is already loaded. To reload it, use:\n",
      "  %reload_ext autoreload\n"
     ]
    }
   ],
   "source": [
    "# magics: ensures that any changes to the modules loaded below will be re-loaded automatically\n",
    "%load_ext autoreload\n",
    "%autoreload 2\n",
    "\n",
    "# load packages\n",
    "import numpy as np\n",
    "import matplotlib.pyplot as plt\n",
    "plt.style.use('seaborn-whitegrid')\n",
    "\n",
    "# load user written modules\n",
    "import tools\n",
    "import model\n",
    "import vfi\n",
    "import egm"
   ]
  },
  {
   "cell_type": "markdown",
   "metadata": {},
   "source": [
    "## Model description"
   ]
  },
  {
   "cell_type": "markdown",
   "metadata": {},
   "source": [
    "The simple specification of our model in discrete time is given by the recursive problem\n",
    "\\begin{equation}\n",
    "\t\\begin{aligned}\n",
    "\t\tv(a_t)  &=  \\max_{c}  u(c_t) + \\beta \\mathrm{E}_t \\big[ v(a_{t+1})\\big] \\\\\n",
    "\t\t& \\text{s.t.} \\\\\t\n",
    "\t\ta_{t+1} &= y_{t+1} + (1+r)(a_t - c_t). \\\\\n",
    "        a_t & \\geq 0\n",
    "\t\\end{aligned}\n",
    "\\end{equation}\n",
    "where\n",
    "\\begin{equation}\n",
    "y_t = \\begin{cases}\n",
    "y_1 \\quad \\text{w. prob.} \\quad \\pi \\\\\n",
    "y_2 \\quad \\text{w. prob.} \\quad 1-\\pi\n",
    "\\end{cases}\n",
    "\\end{equation}"
   ]
  },
  {
   "cell_type": "markdown",
   "metadata": {},
   "source": [
    "and instantaneous utility is given by\n",
    "\\begin{equation}\n",
    "u(c_t) = \\begin{cases}\n",
    "\\frac{c^{1-\\eta} - 1}{1-\\eta} \\quad & \\text{for} \\quad \\eta \\neq 1 \\\\\n",
    "\\log c_t \\quad & \\text{for} \\quad \\eta = 1 \n",
    "\\end{cases}\n",
    "\\end{equation}"
   ]
  },
  {
   "cell_type": "markdown",
   "metadata": {},
   "source": [
    "First we setup all parameters used in the solution algortihms"
   ]
  },
  {
   "cell_type": "code",
   "execution_count": 33,
   "metadata": {},
   "outputs": [],
   "source": [
    "par = model.setup()"
   ]
  },
  {
   "cell_type": "markdown",
   "metadata": {},
   "source": [
    "## Solve by value function iteration (VFI)"
   ]
  },
  {
   "cell_type": "markdown",
   "metadata": {},
   "source": [
    "We can then solve the model using value function iteration. Write a bit about the algorithm here."
   ]
  },
  {
   "cell_type": "code",
   "execution_count": 34,
   "metadata": {},
   "outputs": [],
   "source": [
    "sol_vfi = vfi.solve_VFI(par)"
   ]
  },
  {
   "cell_type": "markdown",
   "metadata": {},
   "source": [
    "Check how many iterations are used to find the convergent solution"
   ]
  },
  {
   "cell_type": "code",
   "execution_count": 35,
   "metadata": {},
   "outputs": [
    {
     "name": "stdout",
     "output_type": "stream",
     "text": [
      "Using value function iteration required 52 iterations before convergence\n"
     ]
    }
   ],
   "source": [
    "print(\"Using value function iteration required \" + str(sol_vfi.it) +\" iterations before convergence\")"
   ]
  },
  {
   "cell_type": "markdown",
   "metadata": {},
   "source": [
    "## Solve by the endogenous grid method (EGM)"
   ]
  },
  {
   "cell_type": "markdown",
   "metadata": {},
   "source": [
    "It seems that to solve the model using the endogenous grid methods, we again rely on the contraction mapping theorem. Hence, the only difference from VFI is that we update each iteration more efficiently.\n",
    "\n",
    "The idea of EGM is to use the Euler equation to solve the problem:\n",
    "\\begin{equation}\n",
    "c_t^{-\\rho} = (1+r)\\beta \\mathrm{E}_t \\Big[ \\big(c_{t+1}(a_{t+1})\\big)^{-\\rho} \\Big] = (1+r)\\beta  \\mathrm{E}_t \\Big[ \\big(c_{t+1}\\big((1+r)a_t-c_t\\big) \\big)^{-\\rho} \\Big]\n",
    "\\end{equation}\n",
    "In the RHS i've inserted the transition rule for assets. Note that in our model assets are the same as the state"
   ]
  },
  {
   "cell_type": "markdown",
   "metadata": {},
   "source": [
    "Run the EGM algortihm"
   ]
  },
  {
   "cell_type": "code",
   "execution_count": 36,
   "metadata": {},
   "outputs": [],
   "source": [
    "sol_egm = egm.solve_EGM(par)"
   ]
  },
  {
   "cell_type": "markdown",
   "metadata": {},
   "source": [
    "Again, we check the number of iterations used"
   ]
  },
  {
   "cell_type": "code",
   "execution_count": 37,
   "metadata": {},
   "outputs": [
    {
     "name": "stdout",
     "output_type": "stream",
     "text": [
      "Using value function iteration required 57 iterations before convergence\n"
     ]
    }
   ],
   "source": [
    "print(\"Using value function iteration required \" + str(sol_egm.it) +\" iterations before convergence\")"
   ]
  },
  {
   "cell_type": "markdown",
   "metadata": {},
   "source": [
    "Besides using considerably less iterations, we also note that each iteration should be much quicker for EGM as we can back out optimal consumption given last iteration WITHOUT ousing any solver"
   ]
  },
  {
   "cell_type": "markdown",
   "metadata": {},
   "source": [
    "To assert that our algorithms have run correctly, we can compare the converged policy functions derived from each algorithm"
   ]
  },
  {
   "cell_type": "code",
   "execution_count": 38,
   "metadata": {},
   "outputs": [
    {
     "data": {
      "image/png": "[encoded data removed]",
      "text/plain": [
       "<Figure size 1008x360 with 1 Axes>"
      ]
     },
     "metadata": {},
     "output_type": "display_data"
    }
   ],
   "source": [
    "fig = plt.figure(figsize=(14,5))\n",
    "\n",
    "ax = fig.add_subplot(1,2,1)\n",
    "\n",
    "ax.plot(sol_egm.a, sol_egm.c, linestyle = ':', color = '0.4')\n",
    "ax.plot(sol_vfi.a, sol_vfi.c, linestyle = '-', color = '0.7')\n",
    "ax.set_xlabel(f\"Assets, $a_t$\")\n",
    "ax.set_ylabel(f\"Consumption, $c^\\star_t$\")\n",
    "ax.set_title(f'Policy function')\n",
    "ax.set_xlim([-1,20])\n",
    "\n",
    "plt.show()"
   ]
  },
  {
   "cell_type": "markdown",
   "metadata": {},
   "source": [
    "We can see that the two solutions are quite close."
   ]
  },
  {
   "cell_type": "markdown",
   "metadata": {},
   "source": [
    "We now extend the EGM algortihm to solve a general Markov process for wages. The model is therefore\n",
    "\\begin{equation}\n",
    "\t\\begin{aligned}\n",
    "\t\tv_j(a_t)  &=  \\max_{c}  u(c_t) + \\beta \\Big[ P_{jj} v_j(a_{t+1}) + (1-P_{jj})v_{-j}(a_{t+1}) \\big] \\\\\n",
    "\t\t& \\text{s.t.} \\\\\t\n",
    "\t\ta_{t+1} &= y_j + (1+r)(a_t - c_t). \\\\\n",
    "        a_t & \\geq 0\n",
    "\t\\end{aligned}\n",
    "\\end{equation}\n",
    "for $j \\in \\{1,2\\}$. \n",
    "\n",
    "We have the transition matrix between states\n",
    "\\begin{equation}\n",
    "\\mathbf{P} = \\begin{pmatrix}\n",
    "P_{11} & 1 - P_{11} \\\\\n",
    "1 - P_{22} & P_{22}\n",
    "\\end{pmatrix}\n",
    "\\end{equation}\n",
    "where $P_{11}$ is the probability of of staying in state 1 conditional on being in state 1 and $P_{22}$ is the probability of staying in state 2 conditional on being in state 2.\n",
    "\\end{equation}"
   ]
  },
  {
   "cell_type": "markdown",
   "metadata": {},
   "source": [
    "**Run the new and improved EGM solver**"
   ]
  },
  {
   "cell_type": "code",
   "execution_count": 46,
   "metadata": {},
   "outputs": [
    {
     "ename": "ValueError",
     "evalue": "could not broadcast input array from shape (2,2) into shape (101)",
     "output_type": "error",
     "traceback": [
      "\u001b[1;31m---------------------------------------------------------------------------\u001b[0m",
      "\u001b[1;31mValueError\u001b[0m                                Traceback (most recent call last)",
      "\u001b[1;32m<ipython-input-46-d1b5474cbce6>\u001b[0m in \u001b[0;36m<module>\u001b[1;34m\u001b[0m\n\u001b[1;32m----> 1\u001b[1;33m \u001b[0msol_egm_2d\u001b[0m \u001b[1;33m=\u001b[0m \u001b[0megm\u001b[0m\u001b[1;33m.\u001b[0m\u001b[0msolve_EGM_2d\u001b[0m\u001b[1;33m(\u001b[0m\u001b[0mpar\u001b[0m\u001b[1;33m)\u001b[0m\u001b[1;33m\u001b[0m\u001b[1;33m\u001b[0m\u001b[0m\n\u001b[0m",
      "\u001b[1;32m~\\OneDrive - University of Copenhagen\\Desktop\\Dynamic Programming\\Term paper\\code\\git\\DynamicProgramming\\egm.py\u001b[0m in \u001b[0;36msolve_EGM_2d\u001b[1;34m(par)\u001b[0m\n\u001b[0;32m     98\u001b[0m \u001b[1;33m\u001b[0m\u001b[0m\n\u001b[0;32m     99\u001b[0m             \u001b[1;31m# Add optimal consumption and endogenous state\u001b[0m\u001b[1;33m\u001b[0m\u001b[1;33m\u001b[0m\u001b[1;33m\u001b[0m\u001b[0m\n\u001b[1;32m--> 100\u001b[1;33m             \u001b[0msol\u001b[0m\u001b[1;33m.\u001b[0m\u001b[0mc\u001b[0m\u001b[1;33m[\u001b[0m\u001b[0mi_s\u001b[0m\u001b[1;33m+\u001b[0m\u001b[1;36m1\u001b[0m\u001b[1;33m]\u001b[0m \u001b[1;33m=\u001b[0m \u001b[0mutil\u001b[0m\u001b[1;33m.\u001b[0m\u001b[0minv_marg_u\u001b[0m\u001b[1;33m(\u001b[0m\u001b[1;33m(\u001b[0m\u001b[1;36m1\u001b[0m\u001b[1;33m+\u001b[0m\u001b[0mpar\u001b[0m\u001b[1;33m.\u001b[0m\u001b[0mr\u001b[0m\u001b[1;33m)\u001b[0m\u001b[1;33m*\u001b[0m\u001b[0mpar\u001b[0m\u001b[1;33m.\u001b[0m\u001b[0mbeta\u001b[0m\u001b[1;33m*\u001b[0m\u001b[0mav_marg_u_plus\u001b[0m\u001b[1;33m,\u001b[0m\u001b[0mpar\u001b[0m\u001b[1;33m)\u001b[0m\u001b[1;33m\u001b[0m\u001b[1;33m\u001b[0m\u001b[0m\n\u001b[0m\u001b[0;32m    101\u001b[0m             \u001b[0msol\u001b[0m\u001b[1;33m.\u001b[0m\u001b[0ma\u001b[0m\u001b[1;33m[\u001b[0m\u001b[0mi_s\u001b[0m\u001b[1;33m+\u001b[0m\u001b[1;36m1\u001b[0m\u001b[1;33m]\u001b[0m \u001b[1;33m=\u001b[0m \u001b[0ms\u001b[0m \u001b[1;33m+\u001b[0m \u001b[0msol\u001b[0m\u001b[1;33m.\u001b[0m\u001b[0mc\u001b[0m\u001b[1;33m[\u001b[0m\u001b[0mi_s\u001b[0m\u001b[1;33m+\u001b[0m\u001b[1;36m1\u001b[0m\u001b[1;33m]\u001b[0m\u001b[1;33m\u001b[0m\u001b[1;33m\u001b[0m\u001b[0m\n\u001b[0;32m    102\u001b[0m \u001b[1;33m\u001b[0m\u001b[0m\n",
      "\u001b[1;31mValueError\u001b[0m: could not broadcast input array from shape (2,2) into shape (101)"
     ]
    }
   ],
   "source": [
    "sol_egm_2d = egm.solve_EGM_2d(par)"
   ]
  },
  {
   "cell_type": "code",
   "execution_count": 45,
   "metadata": {
    "jupyter": {
     "source_hidden": true
    }
   },
   "outputs": [
    {
     "data": {
      "image/png": "[encoded data removed]",
      "text/plain": [
       "<Figure size 1008x360 with 1 Axes>"
      ]
     },
     "metadata": {},
     "output_type": "display_data"
    }
   ],
   "source": [
    "fig = plt.figure(figsize=(14,5))\n",
    "\n",
    "ax = fig.add_subplot(1,2,1)\n",
    "\n",
    "ax.plot(sol_egm_2d.a[0,:], sol_egm_2d.c[0,:], linestyle = ':', color = 'red', label = '$y_1$')\n",
    "ax.plot(sol_egm_2d.a[1,:], sol_egm_2d.c[1,:], linestyle = ':', color = 'blue', label = '$y_2$')\n",
    "ax.plot(sol_egm_2d.a[1,:10], sol_egm_2d.a[1,:10], linestyle = '--', color = '0.6') # Check with 45 degree line. Seems correct\n",
    "ax.set_xlabel(f\"Assets, $a_t$\")\n",
    "ax.set_ylabel(f\"Consumption, $c^\\star_t$\")\n",
    "ax.set_title(f'Policy function')\n",
    "ax.set_xlim([-1,20])\n",
    "ax.legend(frameon=True)\n",
    "\n",
    "plt.show()"
   ]
  },
  {
   "cell_type": "code",
   "execution_count": 41,
   "metadata": {},
   "outputs": [
    {
     "name": "stdout",
     "output_type": "stream",
     "text": [
      "We again used 57 iterations before convergence\n"
     ]
    }
   ],
   "source": [
    "print(\"We again used \" + str(sol_egm_2d.it) +\" iterations before convergence\")"
   ]
  }
 ],
 "metadata": {
  "kernelspec": {
   "display_name": "Python 3",
   "language": "python",
   "name": "python3"
  },
  "language_info": {
   "codemirror_mode": {
    "name": "ipython",
    "version": 3
   },
   "file_extension": ".py",
   "mimetype": "text/x-python",
   "name": "python",
   "nbconvert_exporter": "python",
   "pygments_lexer": "ipython3",
   "version": "3.7.4"
  }
 },
 "nbformat": 4,
 "nbformat_minor": 4
}

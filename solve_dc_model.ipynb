{
 "cells": [
  {
   "cell_type": "code",
   "execution_count": 21,
   "metadata": {},
   "outputs": [
    {
     "name": "stdout",
     "output_type": "stream",
     "text": [
      "The autoreload extension is already loaded. To reload it, use:\n",
      "  %reload_ext autoreload\n"
     ]
    }
   ],
   "source": [
    "# magics: ensures that any changes to the modules loaded below will be re-loaded automatically\n",
    "%load_ext autoreload\n",
    "%autoreload 2\n",
    "\n",
    "import numpy as np\n",
    "import matplotlib.pyplot as plt\n",
    "import tools \n",
    "from model import model_class as model\n",
    "import time\n",
    "\n",
    "plt.rc('font', family='serif')\n",
    "plt.rc('text', usetex=True)\n",
    "plt.rc('axes', axisbelow=True)\n",
    "\n",
    "# Setup model\n",
    "model = model()\n",
    "model.setup()\n",
    "model.create_grids()"
   ]
  },
  {
   "cell_type": "code",
   "execution_count": 30,
   "metadata": {},
   "outputs": [],
   "source": [
    "# Solve using NEGM\n",
    "model.par.y1 = 1.0\n",
    "model.par.ph = 2.0\n",
    "model.par.p0 = 1.7\n",
    "model.par.r = 0.045\n",
    "model.par.m_max = 10\n",
    "model.create_grids()\n",
    "model.solve_negm_dc()\n",
    "sol_negm = model.sol_negm\n",
    "par = model.par"
   ]
  },
  {
   "cell_type": "code",
   "execution_count": 42,
   "metadata": {},
   "outputs": [
    {
     "data": {
      "image/png": "[encoded data removed]",
      "text/plain": [
       "<Figure size 432x288 with 1 Axes>"
      ]
     },
     "metadata": {
      "needs_background": "light"
     },
     "output_type": "display_data"
    }
   ],
   "source": [
    "# Generate figure\n",
    "fig = plt.figure(figsize=(6,4))\n",
    "ax = fig.add_subplot(1,1,1)\n",
    "\n",
    "# Settings\n",
    "ax.grid(b=True, which = 'major', linestyle='-', linewidth=0.5, color='0.9')\n",
    "ax.set_xlim([0.0,10])\n",
    "ax.set_ylim([0.0,1.5])\n",
    "\n",
    "ax.set_xlabel(r'Cash on Hand, $m_t$', size=13)\n",
    "ax.set_ylabel(r'Consumption, $c_t$', size=13)\n",
    "\n",
    "# Plot\n",
    "ax.plot(model.sol_negm.m[0,:],model.sol_negm.c[0,:], label= r'Not having a house', linestyle = '-', color = '0.4')\n",
    "ax.plot(model.sol_negm.m[1,:],model.sol_negm.c[1,:], label= r'Having a house', linestyle = '--', color = '0.4')\n",
    "\n",
    "ax.legend(frameon = True, edgecolor = 'k', facecolor = 'white', framealpha=1, fancybox=False, loc = 2)\n",
    "plt.savefig('figs/negm_dc_policy_c.pdf')"
   ]
  },
  {
   "cell_type": "code",
   "execution_count": 43,
   "metadata": {},
   "outputs": [
    {
     "data": {
      "image/png": "[encoded data removed]",
      "text/plain": [
       "<Figure size 432x288 with 1 Axes>"
      ]
     },
     "metadata": {
      "needs_background": "light"
     },
     "output_type": "display_data"
    }
   ],
   "source": [
    "# Generate figure\n",
    "fig = plt.figure(figsize=(6,4))\n",
    "ax = fig.add_subplot(1,1,1)\n",
    "\n",
    "# Settings\n",
    "ax.grid(b=True, which = 'major', linestyle='-', linewidth=0.5, color='0.9')\n",
    "ax.set_xlim([0.0,10])\n",
    "ax.set_ylim([0.0,1.5])\n",
    "\n",
    "ax.set_xlabel(r'Cash on Hand, $m_t$', size=13)\n",
    "ax.set_ylabel(r'Adjustment Choice', size=13)\n",
    "\n",
    "# Plot\n",
    "ax.plot(model.sol_negm.m[0,:],model.sol_negm.h[0,:], label= r'Buying a house', linestyle = '-', color = '0.4')\n",
    "ax.plot(model.sol_negm.m[1,:],1-model.sol_negm.h[1,:], label= r'Selling a house', linestyle = '--', color = '0.4')\n",
    "\n",
    "ax.legend(frameon = True, edgecolor = 'k', facecolor = 'white', framealpha=1, fancybox=False, loc = 2)\n",
    "plt.savefig('figs/negm_dc_policy_h.pdf')"
   ]
  },
  {
   "cell_type": "markdown",
   "metadata": {},
   "source": [
    "Time solution algoritms and measure accuracy"
   ]
  },
  {
   "cell_type": "code",
   "execution_count": 11,
   "metadata": {},
   "outputs": [],
   "source": [
    "model.par.y1 = 1.0\n",
    "model.par.ph = 2.0\n",
    "model.par.p0 = 1.7\n",
    "model.par.r = 0.045\n",
    "model.par.m_max = 10\n",
    "model.create_grids()\n",
    "\n",
    "t0 = time.time()\n",
    "model.solve_negm_dc()\n",
    "t1 = time.time()\n",
    "\n",
    "negm_time = t1-t0"
   ]
  },
  {
   "cell_type": "markdown",
   "metadata": {},
   "source": [
    "Solve on fine grid"
   ]
  },
  {
   "cell_type": "code",
   "execution_count": 24,
   "metadata": {},
   "outputs": [],
   "source": [
    "model.par.y1 = 1.0\n",
    "model.par.ph = 2.0\n",
    "model.par.p0 = 1.7\n",
    "model.par.r = 0.045\n",
    "model.par.m_max = 10\n",
    "model.create_grids()\n",
    "\n",
    "t0 = time.time()\n",
    "model.solve_negm_dc()\n",
    "t1 = time.time()\n",
    "\n",
    "negm_time = t1 - t0"
   ]
  },
  {
   "cell_type": "code",
   "execution_count": 25,
   "metadata": {},
   "outputs": [
    {
     "name": "stdout",
     "output_type": "stream",
     "text": [
      "30.28596019744873\n",
      "365\n"
     ]
    }
   ],
   "source": [
    "print(negm_time)\n",
    "print(model.sol_negm.it)"
   ]
  },
  {
   "cell_type": "code",
   "execution_count": 29,
   "metadata": {},
   "outputs": [],
   "source": [
    "model.setup()\n",
    "model.create_grids()\n",
    "\n",
    "t0 = time.time()\n",
    "model.solve_vfi_dc()\n",
    "t1 = time.time()\n",
    "\n",
    "nvfi_time = t1-t0"
   ]
  },
  {
   "cell_type": "code",
   "execution_count": 30,
   "metadata": {},
   "outputs": [
    {
     "name": "stdout",
     "output_type": "stream",
     "text": [
      "2144.077544927597\n",
      "5000\n"
     ]
    }
   ],
   "source": [
    "print(nvfi_time)\n",
    "print(model.sol_nvfi.it)"
   ]
  },
  {
   "cell_type": "code",
   "execution_count": 31,
   "metadata": {},
   "outputs": [
    {
     "name": "stdout",
     "output_type": "stream",
     "text": [
      "0.028603102790115464\n"
     ]
    }
   ],
   "source": [
    "print(model.sol_nvfi.delta)"
   ]
  },
  {
   "cell_type": "code",
   "execution_count": null,
   "metadata": {},
   "outputs": [],
   "source": []
  }
 ],
 "metadata": {
  "kernelspec": {
   "display_name": "Python 3",
   "language": "python",
   "name": "python3"
  },
  "language_info": {
   "codemirror_mode": {
    "name": "ipython",
    "version": 3
   },
   "file_extension": ".py",
   "mimetype": "text/x-python",
   "name": "python",
   "nbconvert_exporter": "python",
   "pygments_lexer": "ipython3",
   "version": "3.7.4"
  }
 },
 "nbformat": 4,
 "nbformat_minor": 5
}
